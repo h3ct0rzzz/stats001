{
 "cells": [
  {
   "cell_type": "markdown",
   "id": "973927c6-6a09-49fc-8ba5-84903a3be1f6",
   "metadata": {
    "tags": []
   },
   "source": [
    "# Тестовое задание на позицию Junior Analyst. (Караваев К. Р.)\n",
    "## 1. Вопросы: \n",
    "1) Как хорошо Вы владеете Python? Оцените свой уровень по шкале от 0 до 10, \n",
    "где 0 - совсем не знаю, 10 - владею в совершенстве. Объясните, почему Вы выбрали такой балл.\n",
    "**Ответ: 6. Уровень вледения базовый, поскольку использую Python как вспомогательный инструмент для задач анализа данных, математических расчетов. Не углублялся в задачи разработки и сложные конструкции языка.**\n",
    "\n",
    "2) Насколько хорошо Вы знакомы с Google Sheets? шкале от 0 до 10, где 0 - совсем не знаю, 10 - владею в совершенстве.\n",
    "Объясните, почему Вы выбрали такой балл.\n",
    "**Ответ: 5. Не так часто работал с Google Sheets.**"
   ]
  },
  {
   "cell_type": "markdown",
   "id": "b195cc82-089e-40cb-b1ce-e562f07169c1",
   "metadata": {
    "tags": []
   },
   "source": [
    "---\n",
    "## 2. Задачи на логику:\n",
    "1) Рекламная кампания стартовала вчера с дневным бюджетом 40 $. Половина\n",
    "бюджета была израсходована к полудню, а 80% оставшегося бюджета было\n",
    "потрачено между полуднем и временем закрытия. Сколько долларов не было\n",
    "потрачено?"
   ]
  },
  {
   "cell_type": "code",
   "execution_count": 1,
   "id": "858c99c5-27bc-4a1c-8c84-361986d04481",
   "metadata": {},
   "outputs": [
    {
     "name": "stdout",
     "output_type": "stream",
     "text": [
      "Не было потрачено: 4.0$\n"
     ]
    }
   ],
   "source": [
    "X = 40\n",
    "print(f'Не было потрачено: { X - (X*0.5 + X*0.5*0.8)}$')"
   ]
  },
  {
   "cell_type": "markdown",
   "id": "2ad0cedf-b28f-499b-a9c6-3a14aba73dc4",
   "metadata": {},
   "source": [
    "---\n",
    "2) 5 идентичных рекламных кампаний работали 24 дня по 6 часов в день,\n",
    "потрачено было 120 долларов. Сколько дней они работали бы на 216 долларов,\n",
    "если бы 9 одинаковых кампаний работали бы по 8 часов в день?"
   ]
  },
  {
   "cell_type": "code",
   "execution_count": 2,
   "id": "6cfb18ba-3c56-445e-b7dd-38849938c270",
   "metadata": {},
   "outputs": [
    {
     "name": "stdout",
     "output_type": "stream",
     "text": [
      "Компании проработали бы 18.0 дней.\n"
     ]
    }
   ],
   "source": [
    "hour = ((120 / 5 ) / 24) / 6 # Один час\n",
    "\n",
    "print(f'Компании проработали бы {216 / (hour*8*9)} дней.')"
   ]
  },
  {
   "cell_type": "markdown",
   "id": "93f3a00b-e94f-47d8-8469-63dbddbfad06",
   "metadata": {},
   "source": [
    "---\n",
    "3) Дизайнеры создали 200 рекламных баннеров для двух рекламных кампаний. 80\n",
    "из них не использовались ни в кампании No1, ни в кампании No2, 60\n",
    "использовались только в кампании No1. И для каждого рекламного баннера,\n",
    "который использовался в обеих кампаниях, приходится 3 баннера, которые\n",
    "использовались только в кампании No2. Сколько баннеров было использовано в\n",
    "обеих рекламных кампаниях?\n"
   ]
  },
  {
   "cell_type": "markdown",
   "id": "ddd12567-95f0-4fd9-aa52-7ad41908654c",
   "metadata": {},
   "source": [
    "Положим, что \n",
    "\n",
    "$x_1$ - число баннеров, использованных в компании №1 \n",
    "\n",
    "$x_2$ - число рекламных баннеров, использованных в компании №2\n",
    "\n",
    "$x_3$ - число баннеров, использованных в компании №1 и в компании №2\n",
    "\n",
    "Тогда получаем \n",
    "\\begin{equation}\n",
    "  \\begin{cases}\n",
    "    x_1 = 60 \\\\\n",
    "    x_1 + x_1 + x_3 = 200-80 \\\\\n",
    "    x_2 = 3x_3\n",
    "  \\end{cases}\n",
    "\\end{equation}\n",
    "\n",
    "Решая систему, получаем:\n",
    "$x_1 = 60, x_2 = 45, x_3 = 15$"
   ]
  },
  {
   "cell_type": "markdown",
   "id": "73a11713-e683-4463-8116-ef1644de7bb0",
   "metadata": {},
   "source": [
    "---\n",
    "4) Энн использует Instagram, но не Facebook, а Джон использует Youtube и\n",
    "Facebook. Кейт использует Youtube, но не Instagram, а Том использует Facebook,\n",
    "но не Youtube. Если каждый человек использует две из трех социальных сетей,\n",
    "у кого предпочтения совпадают?\n",
    "\n",
    "**Ответ: У Джона и Кейт предпочтения совпадают, они используют и Youtube и Facebook.**"
   ]
  },
  {
   "cell_type": "markdown",
   "id": "89593a23-772c-4ee3-8246-a6ab3dba5c4e",
   "metadata": {},
   "source": [
    "---\n",
    "5) Средний итоговый балл стажера по 4 модулям составляет 78 баллов. Сколько\n",
    "баллов должен получить стажер за 5-й модуль, чтобы средний балл по всему\n",
    "заданию составил 80?\n",
    "\n",
    "По условию: \n",
    "$ \\hat{\\mu} = \\cfrac{x_1 + x_2 + x_3 + x_4}{4}= 78 $, а \n",
    "$ \\cfrac{x_1 + x_2 + x_3 + x_4 + x_5}{5} = 80$, таким образом $\\cfrac{ 78 \\cdot 4 + x_5}{5}=80 \\Rightarrow x_5 = 88$.\n",
    "\n",
    "**Ответ: Cтажер должен получить 88 баллов за 5-й модуль.**"
   ]
  },
  {
   "cell_type": "markdown",
   "id": "870c99ac-d445-478b-8d44-3dbf47913569",
   "metadata": {},
   "source": [
    "---\n",
    "6) Заказанные в приложении товары доставляются на автомобиле. Автомобиль\n",
    "проезжает 260 км со средней скоростью 80 км / ч. На обратном пути машина\n",
    "движется со средней скоростью 100 км / ч. Насколько быстрее был обратный\n",
    "путь? Ответ указать в минутах."
   ]
  },
  {
   "cell_type": "code",
   "execution_count": 3,
   "id": "08d19fb9-e6d0-4e95-a42c-257017902f30",
   "metadata": {},
   "outputs": [
    {
     "name": "stdout",
     "output_type": "stream",
     "text": [
      "Обратный путь оказался быстрее на 39 минут.\n"
     ]
    }
   ],
   "source": [
    "def time_to_reach(distance, speed):\n",
    "    return distance / speed\n",
    "\n",
    "distance = 260\n",
    "\n",
    "speed_forward = 80\n",
    "speed_backward = 100\n",
    "\n",
    "time_forward = time_to_reach(distance, speed_forward)\n",
    "time_backward = time_to_reach(distance, speed_backward)\n",
    "\n",
    "time_difference_hours = time_forward - time_backward\n",
    "time_difference_minutes = time_difference_hours * 60\n",
    "\n",
    "print(f'Обратный путь оказался быстрее на {abs(round(time_difference_minutes))} минут.')"
   ]
  },
  {
   "cell_type": "markdown",
   "id": "21dff5df-47fb-4044-a43b-676549c4f0ac",
   "metadata": {
    "tags": []
   },
   "source": [
    "---\n",
    "## 3. Техническое задание\n",
    "В файле `df.xlsx` представлены данные по поступлению денежных средств от\n",
    "клиентов компании N за покупку ее услуг.\n",
    "\n",
    "Имеющиеся поля:\n",
    "* `client_id` - ID клиента;\n",
    "* `sum` – сумма денежных средств;\n",
    "* `status` – статус оплаты;\n",
    "* `sale` – менеджер, заключивший сделку;\n",
    "* `new/current` – статус сделки;\n",
    "* `document` – наличие оригинала подписанного договора с клиентом;\n",
    "* `receiving_date` – дата получения оригинала договора.\n",
    "\n",
    "**Вопросы:**\n",
    "1) Вычислите общую выручку за июль 2021 по тем сделкам, приход денежных\n",
    "средств которых не просрочен.\n",
    "2) Как изменялась выручка компании за рассматриваемый период?\n",
    "Проиллюстрируйте графиком.\n",
    "3) Кто из менеджеров привлек для компании больше всего денежных средств в\n",
    "сентябре 2021?\n",
    "4) Какой тип сделок (новая/текущая) был преобладающим в октябре 2021?\n",
    "5) Сколько оригиналов договора по майским сделкам было получено в июне 2021?\n",
    "\n",
    "**Задание:**\n",
    "За каждую заключенную сделку менеджер получает бонус, который рассчитывается\n",
    "следующим образом.\n",
    "1) За новые сделки менеджер получает 7 % от суммы, при условии, что статус\n",
    "оплаты «ОПЛАЧЕНО», а также имеется оригинал подписанного договора с\n",
    "клиентом (в рассматриваемом месяце).\n",
    "2) За текущие сделки менеджер получает 5 % от суммы, если она больше 10 тыс.,\n",
    "и 3 % от суммы, если меньше. При этом статус оплаты может быть любым,\n",
    "кроме «ПРОСРОЧЕНО», а также необходимо наличие оригинала подписанного\n",
    "договора с клиентом (в рассматриваемом месяце).\n",
    "Бонусы по сделкам, оригиналы для которых приходят позже рассматриваемого\n",
    "месяца, считаются остатком на следующий период, который выплачивается по мере\n",
    "прихода оригиналов. Вычислите остаток каждого из менеджеров на 01.07.2021."
   ]
  },
  {
   "cell_type": "code",
   "execution_count": 4,
   "id": "9229ba98-a817-453c-b122-62d8c26a9721",
   "metadata": {},
   "outputs": [],
   "source": [
    "import pandas as pd\n",
    "import matplotlib.pyplot as plt\n",
    "import seaborn as sns \n",
    "import numpy as np"
   ]
  },
  {
   "cell_type": "code",
   "execution_count": 5,
   "id": "bd0f2dec-64bc-44c7-ae74-2d83a674ef9f",
   "metadata": {},
   "outputs": [],
   "source": [
    "df = pd.read_excel('data.xlsx')"
   ]
  },
  {
   "cell_type": "code",
   "execution_count": 6,
   "id": "2dbdab17-aab7-4747-b4fe-375611010bb6",
   "metadata": {},
   "outputs": [
    {
     "data": {
      "text/html": [
       "<div>\n",
       "<style scoped>\n",
       "    .dataframe tbody tr th:only-of-type {\n",
       "        vertical-align: middle;\n",
       "    }\n",
       "\n",
       "    .dataframe tbody tr th {\n",
       "        vertical-align: top;\n",
       "    }\n",
       "\n",
       "    .dataframe thead th {\n",
       "        text-align: right;\n",
       "    }\n",
       "</style>\n",
       "<table border=\"1\" class=\"dataframe\">\n",
       "  <thead>\n",
       "    <tr style=\"text-align: right;\">\n",
       "      <th></th>\n",
       "      <th>client_id</th>\n",
       "      <th>sum</th>\n",
       "      <th>status</th>\n",
       "      <th>sale</th>\n",
       "      <th>new/current</th>\n",
       "      <th>Unnamed: 5</th>\n",
       "      <th>document</th>\n",
       "      <th>receiving_date</th>\n",
       "    </tr>\n",
       "  </thead>\n",
       "  <tbody>\n",
       "    <tr>\n",
       "      <th>0</th>\n",
       "      <td>NaN</td>\n",
       "      <td>NaN</td>\n",
       "      <td>Май 2021</td>\n",
       "      <td>NaN</td>\n",
       "      <td>NaN</td>\n",
       "      <td>NaN</td>\n",
       "      <td>NaN</td>\n",
       "      <td>NaN</td>\n",
       "    </tr>\n",
       "    <tr>\n",
       "      <th>1</th>\n",
       "      <td>6.0</td>\n",
       "      <td>11693.7</td>\n",
       "      <td>ВНУТРЕННИЙ</td>\n",
       "      <td>-</td>\n",
       "      <td>-</td>\n",
       "      <td>NaN</td>\n",
       "      <td>-</td>\n",
       "      <td>-</td>\n",
       "    </tr>\n",
       "    <tr>\n",
       "      <th>2</th>\n",
       "      <td>14.0</td>\n",
       "      <td>5452.7</td>\n",
       "      <td>ОПЛАЧЕНО</td>\n",
       "      <td>Петрова</td>\n",
       "      <td>новая</td>\n",
       "      <td>NaN</td>\n",
       "      <td>оригинал</td>\n",
       "      <td>2021-07-26 00:00:00</td>\n",
       "    </tr>\n",
       "    <tr>\n",
       "      <th>3</th>\n",
       "      <td>15.0</td>\n",
       "      <td>13991.7</td>\n",
       "      <td>ОПЛАЧЕНО</td>\n",
       "      <td>Иванов</td>\n",
       "      <td>текущая</td>\n",
       "      <td>NaN</td>\n",
       "      <td>оригинал</td>\n",
       "      <td>2021-06-08 00:00:00</td>\n",
       "    </tr>\n",
       "    <tr>\n",
       "      <th>4</th>\n",
       "      <td>16.0</td>\n",
       "      <td>719.7</td>\n",
       "      <td>ОПЛАЧЕНО</td>\n",
       "      <td>Иванов</td>\n",
       "      <td>текущая</td>\n",
       "      <td>NaN</td>\n",
       "      <td>оригинал</td>\n",
       "      <td>2021-06-08 00:00:00</td>\n",
       "    </tr>\n",
       "  </tbody>\n",
       "</table>\n",
       "</div>"
      ],
      "text/plain": [
       "   client_id      sum      status     sale new/current  Unnamed: 5  document  \\\n",
       "0        NaN      NaN    Май 2021      NaN         NaN         NaN       NaN   \n",
       "1        6.0  11693.7  ВНУТРЕННИЙ        -           -         NaN         -   \n",
       "2       14.0   5452.7    ОПЛАЧЕНО  Петрова       новая         NaN  оригинал   \n",
       "3       15.0  13991.7    ОПЛАЧЕНО   Иванов     текущая         NaN  оригинал   \n",
       "4       16.0    719.7    ОПЛАЧЕНО   Иванов     текущая         NaN  оригинал   \n",
       "\n",
       "        receiving_date  \n",
       "0                  NaN  \n",
       "1                    -  \n",
       "2  2021-07-26 00:00:00  \n",
       "3  2021-06-08 00:00:00  \n",
       "4  2021-06-08 00:00:00  "
      ]
     },
     "execution_count": 6,
     "metadata": {},
     "output_type": "execute_result"
    }
   ],
   "source": [
    "df.head()"
   ]
  },
  {
   "cell_type": "code",
   "execution_count": 7,
   "id": "4ac794fe-043b-418d-8bb5-42f77609ecb4",
   "metadata": {},
   "outputs": [
    {
     "data": {
      "text/html": [
       "<div>\n",
       "<style scoped>\n",
       "    .dataframe tbody tr th:only-of-type {\n",
       "        vertical-align: middle;\n",
       "    }\n",
       "\n",
       "    .dataframe tbody tr th {\n",
       "        vertical-align: top;\n",
       "    }\n",
       "\n",
       "    .dataframe thead th {\n",
       "        text-align: right;\n",
       "    }\n",
       "</style>\n",
       "<table border=\"1\" class=\"dataframe\">\n",
       "  <thead>\n",
       "    <tr style=\"text-align: right;\">\n",
       "      <th></th>\n",
       "      <th>client_id</th>\n",
       "      <th>sum</th>\n",
       "      <th>status</th>\n",
       "      <th>sale</th>\n",
       "      <th>new/current</th>\n",
       "      <th>Unnamed: 5</th>\n",
       "      <th>document</th>\n",
       "      <th>receiving_date</th>\n",
       "    </tr>\n",
       "  </thead>\n",
       "  <tbody>\n",
       "    <tr>\n",
       "      <th>725</th>\n",
       "      <td>285.0</td>\n",
       "      <td>4328.7</td>\n",
       "      <td>ОПЛАЧЕНО</td>\n",
       "      <td>Васильев</td>\n",
       "      <td>текущая</td>\n",
       "      <td>NaN</td>\n",
       "      <td>оригинал</td>\n",
       "      <td>2021-11-15 00:00:00</td>\n",
       "    </tr>\n",
       "    <tr>\n",
       "      <th>726</th>\n",
       "      <td>360.0</td>\n",
       "      <td>3096.2</td>\n",
       "      <td>ОПЛАЧЕНО</td>\n",
       "      <td>Васильев</td>\n",
       "      <td>новая</td>\n",
       "      <td>NaN</td>\n",
       "      <td>НЕТ</td>\n",
       "      <td>NaN</td>\n",
       "    </tr>\n",
       "    <tr>\n",
       "      <th>727</th>\n",
       "      <td>360.0</td>\n",
       "      <td>3096.2</td>\n",
       "      <td>ПРОСРОЧЕНО</td>\n",
       "      <td>Васильев</td>\n",
       "      <td>новая</td>\n",
       "      <td>NaN</td>\n",
       "      <td>НЕТ</td>\n",
       "      <td>NaN</td>\n",
       "    </tr>\n",
       "    <tr>\n",
       "      <th>728</th>\n",
       "      <td>373.0</td>\n",
       "      <td>4403.7</td>\n",
       "      <td>ОПЛАЧЕНО</td>\n",
       "      <td>Михайлов</td>\n",
       "      <td>новая</td>\n",
       "      <td>NaN</td>\n",
       "      <td>оригинал</td>\n",
       "      <td>2021-11-08 00:00:00</td>\n",
       "    </tr>\n",
       "    <tr>\n",
       "      <th>729</th>\n",
       "      <td>286.0</td>\n",
       "      <td>3978.7</td>\n",
       "      <td>ОПЛАЧЕНО</td>\n",
       "      <td>Филимонова</td>\n",
       "      <td>текущая</td>\n",
       "      <td>NaN</td>\n",
       "      <td>оригинал</td>\n",
       "      <td>2021-11-15 00:00:00</td>\n",
       "    </tr>\n",
       "  </tbody>\n",
       "</table>\n",
       "</div>"
      ],
      "text/plain": [
       "     client_id     sum      status        sale new/current  Unnamed: 5  \\\n",
       "725      285.0  4328.7    ОПЛАЧЕНО    Васильев     текущая         NaN   \n",
       "726      360.0  3096.2    ОПЛАЧЕНО    Васильев       новая         NaN   \n",
       "727      360.0  3096.2  ПРОСРОЧЕНО    Васильев       новая         NaN   \n",
       "728      373.0  4403.7    ОПЛАЧЕНО    Михайлов       новая         NaN   \n",
       "729      286.0  3978.7    ОПЛАЧЕНО  Филимонова     текущая         NaN   \n",
       "\n",
       "     document       receiving_date  \n",
       "725  оригинал  2021-11-15 00:00:00  \n",
       "726       НЕТ                  NaN  \n",
       "727       НЕТ                  NaN  \n",
       "728  оригинал  2021-11-08 00:00:00  \n",
       "729  оригинал  2021-11-15 00:00:00  "
      ]
     },
     "execution_count": 7,
     "metadata": {},
     "output_type": "execute_result"
    }
   ],
   "source": [
    "df.tail()"
   ]
  },
  {
   "cell_type": "code",
   "execution_count": 8,
   "id": "f928147b-96a6-4401-9b8b-ee5aa627d92a",
   "metadata": {},
   "outputs": [
    {
     "name": "stdout",
     "output_type": "stream",
     "text": [
      "<class 'pandas.core.frame.DataFrame'>\n",
      "RangeIndex: 730 entries, 0 to 729\n",
      "Data columns (total 8 columns):\n",
      " #   Column          Non-Null Count  Dtype  \n",
      "---  ------          --------------  -----  \n",
      " 0   client_id       724 non-null    float64\n",
      " 1   sum             724 non-null    float64\n",
      " 2   status          730 non-null    object \n",
      " 3   sale            724 non-null    object \n",
      " 4   new/current     724 non-null    object \n",
      " 5   Unnamed: 5      0 non-null      float64\n",
      " 6   document        709 non-null    object \n",
      " 7   receiving_date  607 non-null    object \n",
      "dtypes: float64(3), object(5)\n",
      "memory usage: 45.8+ KB\n"
     ]
    }
   ],
   "source": [
    "df.info()"
   ]
  },
  {
   "cell_type": "code",
   "execution_count": 9,
   "id": "c2d2e019-7ddf-4ca3-97ed-0311898ad8bb",
   "metadata": {},
   "outputs": [
    {
     "data": {
      "text/plain": [
       "array(['Май 2021', 'ВНУТРЕННИЙ', 'ОПЛАЧЕНО', 'ПРОСРОЧЕНО', 'Июнь 2021',\n",
       "       'Июль 2021', 'Август 2021', 'В РАБОТЕ', 'Сентябрь 2021',\n",
       "       'Октябрь 2021', 'НА ПОДПИСАНИИ'], dtype=object)"
      ]
     },
     "execution_count": 9,
     "metadata": {},
     "output_type": "execute_result"
    }
   ],
   "source": [
    "df['status'].unique()"
   ]
  },
  {
   "cell_type": "code",
   "execution_count": 10,
   "id": "0d566140-d8f7-4e9a-b743-4cd847ebcc47",
   "metadata": {},
   "outputs": [],
   "source": [
    "# Преобразования столбца receiving_date в формат datetime \n",
    "df['receiving_date'] = pd.to_datetime(df['receiving_date'], errors='coerce')\n",
    "\n",
    "# Создаем новые столбцы для месяца и года из столбца receiving_date\n",
    "df['receiving_month'] = df['receiving_date'].dt.month\n",
    "df['receiving_year'] = df['receiving_date'].dt.year"
   ]
  },
  {
   "cell_type": "code",
   "execution_count": 11,
   "id": "a7c47051-5762-4845-82d1-e4cf958041c0",
   "metadata": {},
   "outputs": [
    {
     "data": {
      "text/html": [
       "<div>\n",
       "<style scoped>\n",
       "    .dataframe tbody tr th:only-of-type {\n",
       "        vertical-align: middle;\n",
       "    }\n",
       "\n",
       "    .dataframe tbody tr th {\n",
       "        vertical-align: top;\n",
       "    }\n",
       "\n",
       "    .dataframe thead th {\n",
       "        text-align: right;\n",
       "    }\n",
       "</style>\n",
       "<table border=\"1\" class=\"dataframe\">\n",
       "  <thead>\n",
       "    <tr style=\"text-align: right;\">\n",
       "      <th></th>\n",
       "      <th>client_id</th>\n",
       "      <th>sum</th>\n",
       "      <th>status</th>\n",
       "      <th>sale</th>\n",
       "      <th>new/current</th>\n",
       "      <th>Unnamed: 5</th>\n",
       "      <th>document</th>\n",
       "      <th>receiving_date</th>\n",
       "      <th>receiving_month</th>\n",
       "      <th>receiving_year</th>\n",
       "    </tr>\n",
       "  </thead>\n",
       "  <tbody>\n",
       "    <tr>\n",
       "      <th>0</th>\n",
       "      <td>NaN</td>\n",
       "      <td>NaN</td>\n",
       "      <td>Май 2021</td>\n",
       "      <td>NaN</td>\n",
       "      <td>NaN</td>\n",
       "      <td>NaN</td>\n",
       "      <td>NaN</td>\n",
       "      <td>NaT</td>\n",
       "      <td>NaN</td>\n",
       "      <td>NaN</td>\n",
       "    </tr>\n",
       "    <tr>\n",
       "      <th>1</th>\n",
       "      <td>6.0</td>\n",
       "      <td>11693.7</td>\n",
       "      <td>ВНУТРЕННИЙ</td>\n",
       "      <td>-</td>\n",
       "      <td>-</td>\n",
       "      <td>NaN</td>\n",
       "      <td>-</td>\n",
       "      <td>NaT</td>\n",
       "      <td>NaN</td>\n",
       "      <td>NaN</td>\n",
       "    </tr>\n",
       "    <tr>\n",
       "      <th>2</th>\n",
       "      <td>14.0</td>\n",
       "      <td>5452.7</td>\n",
       "      <td>ОПЛАЧЕНО</td>\n",
       "      <td>Петрова</td>\n",
       "      <td>новая</td>\n",
       "      <td>NaN</td>\n",
       "      <td>оригинал</td>\n",
       "      <td>2021-07-26</td>\n",
       "      <td>7.0</td>\n",
       "      <td>2021.0</td>\n",
       "    </tr>\n",
       "    <tr>\n",
       "      <th>3</th>\n",
       "      <td>15.0</td>\n",
       "      <td>13991.7</td>\n",
       "      <td>ОПЛАЧЕНО</td>\n",
       "      <td>Иванов</td>\n",
       "      <td>текущая</td>\n",
       "      <td>NaN</td>\n",
       "      <td>оригинал</td>\n",
       "      <td>2021-06-08</td>\n",
       "      <td>6.0</td>\n",
       "      <td>2021.0</td>\n",
       "    </tr>\n",
       "    <tr>\n",
       "      <th>4</th>\n",
       "      <td>16.0</td>\n",
       "      <td>719.7</td>\n",
       "      <td>ОПЛАЧЕНО</td>\n",
       "      <td>Иванов</td>\n",
       "      <td>текущая</td>\n",
       "      <td>NaN</td>\n",
       "      <td>оригинал</td>\n",
       "      <td>2021-06-08</td>\n",
       "      <td>6.0</td>\n",
       "      <td>2021.0</td>\n",
       "    </tr>\n",
       "  </tbody>\n",
       "</table>\n",
       "</div>"
      ],
      "text/plain": [
       "   client_id      sum      status     sale new/current  Unnamed: 5  document  \\\n",
       "0        NaN      NaN    Май 2021      NaN         NaN         NaN       NaN   \n",
       "1        6.0  11693.7  ВНУТРЕННИЙ        -           -         NaN         -   \n",
       "2       14.0   5452.7    ОПЛАЧЕНО  Петрова       новая         NaN  оригинал   \n",
       "3       15.0  13991.7    ОПЛАЧЕНО   Иванов     текущая         NaN  оригинал   \n",
       "4       16.0    719.7    ОПЛАЧЕНО   Иванов     текущая         NaN  оригинал   \n",
       "\n",
       "  receiving_date  receiving_month  receiving_year  \n",
       "0            NaT              NaN             NaN  \n",
       "1            NaT              NaN             NaN  \n",
       "2     2021-07-26              7.0          2021.0  \n",
       "3     2021-06-08              6.0          2021.0  \n",
       "4     2021-06-08              6.0          2021.0  "
      ]
     },
     "execution_count": 11,
     "metadata": {},
     "output_type": "execute_result"
    }
   ],
   "source": [
    "df.head()"
   ]
  },
  {
   "cell_type": "markdown",
   "id": "d0233ec2-2ae3-4fdb-830b-20ec00d5002f",
   "metadata": {},
   "source": [
    "---\n",
    "**1. Общую выручка за июль 2021 по тем сделкам, приход денежных\n",
    "средств которых не просрочен.**"
   ]
  },
  {
   "cell_type": "code",
   "execution_count": 12,
   "id": "1b062ecf-9905-453d-b860-e0bb943887ac",
   "metadata": {},
   "outputs": [
    {
     "name": "stdout",
     "output_type": "stream",
     "text": [
      "Общая выручка за июль 2021 (без просроченных платежей): 757830.7399999996\n"
     ]
    }
   ],
   "source": [
    "# Фильтрация данных для июля 2021 с непросроченными платежами\n",
    "july_2021_revenue = df[(df['receiving_date'].dt.month == 7) &\n",
    "                         (df['receiving_date'].dt.year == 2021) &\n",
    "                         (df['status'] == 'ОПЛАЧЕНО')]['sum'].sum()\n",
    "\n",
    "print('Общая выручка за июль 2021 (без просроченных платежей):', july_2021_revenue)"
   ]
  },
  {
   "cell_type": "markdown",
   "id": "f3c10915-99a9-4964-b87c-fa02065ff432",
   "metadata": {},
   "source": [
    "---\n",
    "**2. Изменение выручки компании.**"
   ]
  },
  {
   "cell_type": "code",
   "execution_count": 13,
   "id": "5605a264-2bd1-4c9b-a6da-a34509089b19",
   "metadata": {},
   "outputs": [
    {
     "data": {
      "image/png": "[encoded data removed]",
      "text/plain": [
       "<Figure size 1008x576 with 1 Axes>"
      ]
     },
     "metadata": {},
     "output_type": "display_data"
    }
   ],
   "source": [
    "sns.set_style('whitegrid')\n",
    "\n",
    "monthly_revenue = df.resample('M', on='receiving_date').sum()\n",
    "\n",
    "plt.figure(figsize=(14, 8))\n",
    "ax = sns.lineplot(x=monthly_revenue.index, \n",
    "                  y=monthly_revenue['sum'], \n",
    "                  marker='o', \n",
    "                  color='b')\n",
    "ax.set(xlabel='Дата', \n",
    "       ylabel='Выручка', \n",
    "       title='Изменение выручки компании')\n",
    "\n",
    "plt.xticks(rotation=45)\n",
    "\n",
    "for i, row in monthly_revenue.iterrows():\n",
    "    ax.text(i, row['sum'], \n",
    "            f'{int(row[\"sum\"]):,}', \n",
    "            ha='right', \n",
    "            va='bottom')\n",
    "\n",
    "plt.tight_layout()\n",
    "plt.show()"
   ]
  },
  {
   "cell_type": "markdown",
   "id": "b6a8e134-1fc4-4073-92b1-80a8075b1214",
   "metadata": {},
   "source": [
    "Из графика видно, что выручка растет с июля по сентябрь, далее выходит на один уровень. В ноябре данные представлены до середины месяца.\n",
    "Можно спрогнозировать выручу за ноябрь. "
   ]
  },
  {
   "cell_type": "code",
   "execution_count": 14,
   "id": "d46fd727-59c3-4932-9d0a-9cd9c3a5cbdf",
   "metadata": {},
   "outputs": [
    {
     "name": "stdout",
     "output_type": "stream",
     "text": [
      "Прогнозируемая выручка за ноябрь: 870200.8171428571\n"
     ]
    }
   ],
   "source": [
    "from sklearn.linear_model import LinearRegression\n",
    "from datetime import datetime\n",
    "\n",
    "df['receiving_date'] = pd.to_datetime(df['receiving_date'], errors='coerce')\n",
    "\n",
    "df['receiving_month'] = df['receiving_date'].dt.month\n",
    "df['receiving_year'] = df['receiving_date'].dt.year\n",
    "\n",
    "monthly_revenue = df.groupby(pd.Grouper(key='receiving_date', freq='M')) \\\n",
    "                    .sum()\n",
    "\n",
    "# Модель линейной регрессии\n",
    "X = np.array(range(len(monthly_revenue))).reshape(-1, 1)\n",
    "y = monthly_revenue['sum'].values.reshape(-1, 1)\n",
    "model = LinearRegression()\n",
    "model.fit(X, y)\n",
    "\n",
    "# Прогнозирование выручки на ноябрь\n",
    "november_index = len(monthly_revenue)\n",
    "november_revenue_predicted = model.predict([[november_index]])[0][0]\n",
    "\n",
    "# Добавление прогнозируемой выручки для ноября\n",
    "last_date = monthly_revenue.index[-1]\n",
    "next_month = last_date + pd.DateOffset(months=1)\n",
    "monthly_revenue.loc[next_month] = november_revenue_predicted\n",
    "\n",
    "print('Прогнозируемая выручка за ноябрь:', november_revenue_predicted)\n"
   ]
  },
  {
   "cell_type": "markdown",
   "id": "32199412-c07e-4b58-b52d-980cb9564dfd",
   "metadata": {},
   "source": [
    "---\n",
    "**3. Кто из менеджеров привлек для компании больше всего денежных средств в сентябре 2021?**"
   ]
  },
  {
   "cell_type": "code",
   "execution_count": 15,
   "id": "cb0ba53f-7de4-424f-9875-d66ee4e55395",
   "metadata": {},
   "outputs": [],
   "source": [
    "september_df = df.query(\"receiving_date.dt.month == 9 and receiving_date.dt.year == 2021\") \\\n",
    "                   .groupby('sale')['sum'] \\\n",
    "                   .sum()"
   ]
  },
  {
   "cell_type": "code",
   "execution_count": 16,
   "id": "5c8ff8a3-5e24-411d-b8c7-840a3afd78d1",
   "metadata": {},
   "outputs": [
    {
     "data": {
      "text/plain": [
       "sale\n",
       "Андреев       124714.55\n",
       "Васильев       55667.50\n",
       "Иванов        165314.80\n",
       "Кузнецова      60230.20\n",
       "Петрова       219240.12\n",
       "Смирнов       155245.90\n",
       "Соколов        44234.60\n",
       "Филимонова     45763.30\n",
       "Name: sum, dtype: float64"
      ]
     },
     "execution_count": 16,
     "metadata": {},
     "output_type": "execute_result"
    }
   ],
   "source": [
    "september_df"
   ]
  },
  {
   "cell_type": "code",
   "execution_count": 17,
   "id": "05d9da1c-31b5-4bf1-8d40-13d75a473d08",
   "metadata": {},
   "outputs": [
    {
     "name": "stdout",
     "output_type": "stream",
     "text": [
      "В сентябре 2021 привлек больше всего денежных средств менеджер Петрова.\n"
     ]
    }
   ],
   "source": [
    "print(f\"В сентябре 2021 привлек больше всего денежных средств менеджер {september_df.idxmax()}.\")"
   ]
  },
  {
   "cell_type": "markdown",
   "id": "594c9c1b-8c56-4ba9-ae05-d00b68fcaf83",
   "metadata": {},
   "source": [
    "---\n",
    "**4. Какой тип сделок (новая/текущая) был преобладающим в октябре 2021?**"
   ]
  },
  {
   "cell_type": "code",
   "execution_count": 18,
   "id": "d9f5b553-da24-4b21-951a-f8060bfc1df3",
   "metadata": {},
   "outputs": [],
   "source": [
    "predominant_deal_type = df.query(\"receiving_date.dt.month == 10 and receiving_date.dt.year == 2021\") \\\n",
    "                          .groupby('new/current') \\\n",
    "                          .agg({'document':'count'}) "
   ]
  },
  {
   "cell_type": "code",
   "execution_count": 19,
   "id": "a4f8fe3e-fb97-4d35-8cae-4cdc25845b89",
   "metadata": {},
   "outputs": [
    {
     "data": {
      "text/html": [
       "<div>\n",
       "<style scoped>\n",
       "    .dataframe tbody tr th:only-of-type {\n",
       "        vertical-align: middle;\n",
       "    }\n",
       "\n",
       "    .dataframe tbody tr th {\n",
       "        vertical-align: top;\n",
       "    }\n",
       "\n",
       "    .dataframe thead th {\n",
       "        text-align: right;\n",
       "    }\n",
       "</style>\n",
       "<table border=\"1\" class=\"dataframe\">\n",
       "  <thead>\n",
       "    <tr style=\"text-align: right;\">\n",
       "      <th></th>\n",
       "      <th>document</th>\n",
       "    </tr>\n",
       "    <tr>\n",
       "      <th>new/current</th>\n",
       "      <th></th>\n",
       "    </tr>\n",
       "  </thead>\n",
       "  <tbody>\n",
       "    <tr>\n",
       "      <th>новая</th>\n",
       "      <td>16</td>\n",
       "    </tr>\n",
       "    <tr>\n",
       "      <th>текущая</th>\n",
       "      <td>101</td>\n",
       "    </tr>\n",
       "  </tbody>\n",
       "</table>\n",
       "</div>"
      ],
      "text/plain": [
       "             document\n",
       "new/current          \n",
       "новая              16\n",
       "текущая           101"
      ]
     },
     "execution_count": 19,
     "metadata": {},
     "output_type": "execute_result"
    }
   ],
   "source": [
    "predominant_deal_type"
   ]
  },
  {
   "cell_type": "code",
   "execution_count": 20,
   "id": "3f320bb0-8da3-400b-8319-b43b0c4b9503",
   "metadata": {},
   "outputs": [
    {
     "name": "stdout",
     "output_type": "stream",
     "text": [
      "Преобладающий тип сделок в октябре 2021: текущая\n"
     ]
    }
   ],
   "source": [
    "print(\"Преобладающий тип сделок в октябре 2021:\", predominant_deal_type.idxmax()[0])"
   ]
  },
  {
   "cell_type": "markdown",
   "id": "9cb3149a-9cb4-4924-a05c-0c724aa951f6",
   "metadata": {},
   "source": [
    "---\n",
    "**5. Сколько оригиналов договора по майским сделкам было получено в июне 2021?**"
   ]
  },
  {
   "cell_type": "code",
   "execution_count": 21,
   "id": "a45ff66d-af93-43a5-b7a5-093f492d6897",
   "metadata": {},
   "outputs": [],
   "source": [
    "june_df = df.query('receiving_date.dt.month == 6 and document==\"оригинал\"')"
   ]
  },
  {
   "cell_type": "code",
   "execution_count": 22,
   "id": "20ac7c0e-b82b-42d2-bebb-0841f38ec5a7",
   "metadata": {},
   "outputs": [
    {
     "data": {
      "text/html": [
       "<div>\n",
       "<style scoped>\n",
       "    .dataframe tbody tr th:only-of-type {\n",
       "        vertical-align: middle;\n",
       "    }\n",
       "\n",
       "    .dataframe tbody tr th {\n",
       "        vertical-align: top;\n",
       "    }\n",
       "\n",
       "    .dataframe thead th {\n",
       "        text-align: right;\n",
       "    }\n",
       "</style>\n",
       "<table border=\"1\" class=\"dataframe\">\n",
       "  <thead>\n",
       "    <tr style=\"text-align: right;\">\n",
       "      <th></th>\n",
       "      <th>client_id</th>\n",
       "      <th>sum</th>\n",
       "      <th>status</th>\n",
       "      <th>sale</th>\n",
       "      <th>new/current</th>\n",
       "      <th>Unnamed: 5</th>\n",
       "      <th>document</th>\n",
       "      <th>receiving_date</th>\n",
       "      <th>receiving_month</th>\n",
       "      <th>receiving_year</th>\n",
       "    </tr>\n",
       "  </thead>\n",
       "  <tbody>\n",
       "    <tr>\n",
       "      <th>3</th>\n",
       "      <td>15.0</td>\n",
       "      <td>13991.7</td>\n",
       "      <td>ОПЛАЧЕНО</td>\n",
       "      <td>Иванов</td>\n",
       "      <td>текущая</td>\n",
       "      <td>NaN</td>\n",
       "      <td>оригинал</td>\n",
       "      <td>2021-06-08</td>\n",
       "      <td>6.0</td>\n",
       "      <td>2021.0</td>\n",
       "    </tr>\n",
       "    <tr>\n",
       "      <th>4</th>\n",
       "      <td>16.0</td>\n",
       "      <td>719.7</td>\n",
       "      <td>ОПЛАЧЕНО</td>\n",
       "      <td>Иванов</td>\n",
       "      <td>текущая</td>\n",
       "      <td>NaN</td>\n",
       "      <td>оригинал</td>\n",
       "      <td>2021-06-08</td>\n",
       "      <td>6.0</td>\n",
       "      <td>2021.0</td>\n",
       "    </tr>\n",
       "    <tr>\n",
       "      <th>8</th>\n",
       "      <td>23.0</td>\n",
       "      <td>8511.7</td>\n",
       "      <td>ОПЛАЧЕНО</td>\n",
       "      <td>Андреев</td>\n",
       "      <td>текущая</td>\n",
       "      <td>NaN</td>\n",
       "      <td>оригинал</td>\n",
       "      <td>2021-06-08</td>\n",
       "      <td>6.0</td>\n",
       "      <td>2021.0</td>\n",
       "    </tr>\n",
       "    <tr>\n",
       "      <th>9</th>\n",
       "      <td>24.0</td>\n",
       "      <td>16347.7</td>\n",
       "      <td>ОПЛАЧЕНО</td>\n",
       "      <td>Андреев</td>\n",
       "      <td>новая</td>\n",
       "      <td>NaN</td>\n",
       "      <td>оригинал</td>\n",
       "      <td>2021-06-23</td>\n",
       "      <td>6.0</td>\n",
       "      <td>2021.0</td>\n",
       "    </tr>\n",
       "    <tr>\n",
       "      <th>10</th>\n",
       "      <td>28.0</td>\n",
       "      <td>10537.7</td>\n",
       "      <td>ОПЛАЧЕНО</td>\n",
       "      <td>Андреев</td>\n",
       "      <td>текущая</td>\n",
       "      <td>NaN</td>\n",
       "      <td>оригинал</td>\n",
       "      <td>2021-06-16</td>\n",
       "      <td>6.0</td>\n",
       "      <td>2021.0</td>\n",
       "    </tr>\n",
       "    <tr>\n",
       "      <th>...</th>\n",
       "      <td>...</td>\n",
       "      <td>...</td>\n",
       "      <td>...</td>\n",
       "      <td>...</td>\n",
       "      <td>...</td>\n",
       "      <td>...</td>\n",
       "      <td>...</td>\n",
       "      <td>...</td>\n",
       "      <td>...</td>\n",
       "      <td>...</td>\n",
       "    </tr>\n",
       "    <tr>\n",
       "      <th>120</th>\n",
       "      <td>266.0</td>\n",
       "      <td>3363.7</td>\n",
       "      <td>ОПЛАЧЕНО</td>\n",
       "      <td>Петрова</td>\n",
       "      <td>текущая</td>\n",
       "      <td>NaN</td>\n",
       "      <td>оригинал</td>\n",
       "      <td>2021-06-23</td>\n",
       "      <td>6.0</td>\n",
       "      <td>2021.0</td>\n",
       "    </tr>\n",
       "    <tr>\n",
       "      <th>121</th>\n",
       "      <td>270.0</td>\n",
       "      <td>5288.7</td>\n",
       "      <td>ОПЛАЧЕНО</td>\n",
       "      <td>Васильев</td>\n",
       "      <td>текущая</td>\n",
       "      <td>NaN</td>\n",
       "      <td>оригинал</td>\n",
       "      <td>2021-06-07</td>\n",
       "      <td>6.0</td>\n",
       "      <td>2021.0</td>\n",
       "    </tr>\n",
       "    <tr>\n",
       "      <th>122</th>\n",
       "      <td>273.0</td>\n",
       "      <td>10133.7</td>\n",
       "      <td>ОПЛАЧЕНО</td>\n",
       "      <td>Петрова</td>\n",
       "      <td>текущая</td>\n",
       "      <td>NaN</td>\n",
       "      <td>оригинал</td>\n",
       "      <td>2021-06-01</td>\n",
       "      <td>6.0</td>\n",
       "      <td>2021.0</td>\n",
       "    </tr>\n",
       "    <tr>\n",
       "      <th>123</th>\n",
       "      <td>274.0</td>\n",
       "      <td>26033.7</td>\n",
       "      <td>ОПЛАЧЕНО</td>\n",
       "      <td>Петрова</td>\n",
       "      <td>текущая</td>\n",
       "      <td>NaN</td>\n",
       "      <td>оригинал</td>\n",
       "      <td>2021-06-22</td>\n",
       "      <td>6.0</td>\n",
       "      <td>2021.0</td>\n",
       "    </tr>\n",
       "    <tr>\n",
       "      <th>128</th>\n",
       "      <td>287.0</td>\n",
       "      <td>6368.7</td>\n",
       "      <td>ОПЛАЧЕНО</td>\n",
       "      <td>Филимонова</td>\n",
       "      <td>текущая</td>\n",
       "      <td>NaN</td>\n",
       "      <td>оригинал</td>\n",
       "      <td>2021-06-29</td>\n",
       "      <td>6.0</td>\n",
       "      <td>2021.0</td>\n",
       "    </tr>\n",
       "  </tbody>\n",
       "</table>\n",
       "<p>76 rows × 10 columns</p>\n",
       "</div>"
      ],
      "text/plain": [
       "     client_id      sum    status        sale new/current  Unnamed: 5  \\\n",
       "3         15.0  13991.7  ОПЛАЧЕНО      Иванов     текущая         NaN   \n",
       "4         16.0    719.7  ОПЛАЧЕНО      Иванов     текущая         NaN   \n",
       "8         23.0   8511.7  ОПЛАЧЕНО     Андреев     текущая         NaN   \n",
       "9         24.0  16347.7  ОПЛАЧЕНО     Андреев       новая         NaN   \n",
       "10        28.0  10537.7  ОПЛАЧЕНО     Андреев     текущая         NaN   \n",
       "..         ...      ...       ...         ...         ...         ...   \n",
       "120      266.0   3363.7  ОПЛАЧЕНО     Петрова     текущая         NaN   \n",
       "121      270.0   5288.7  ОПЛАЧЕНО    Васильев     текущая         NaN   \n",
       "122      273.0  10133.7  ОПЛАЧЕНО     Петрова     текущая         NaN   \n",
       "123      274.0  26033.7  ОПЛАЧЕНО     Петрова     текущая         NaN   \n",
       "128      287.0   6368.7  ОПЛАЧЕНО  Филимонова     текущая         NaN   \n",
       "\n",
       "     document receiving_date  receiving_month  receiving_year  \n",
       "3    оригинал     2021-06-08              6.0          2021.0  \n",
       "4    оригинал     2021-06-08              6.0          2021.0  \n",
       "8    оригинал     2021-06-08              6.0          2021.0  \n",
       "9    оригинал     2021-06-23              6.0          2021.0  \n",
       "10   оригинал     2021-06-16              6.0          2021.0  \n",
       "..        ...            ...              ...             ...  \n",
       "120  оригинал     2021-06-23              6.0          2021.0  \n",
       "121  оригинал     2021-06-07              6.0          2021.0  \n",
       "122  оригинал     2021-06-01              6.0          2021.0  \n",
       "123  оригинал     2021-06-22              6.0          2021.0  \n",
       "128  оригинал     2021-06-29              6.0          2021.0  \n",
       "\n",
       "[76 rows x 10 columns]"
      ]
     },
     "execution_count": 22,
     "metadata": {},
     "output_type": "execute_result"
    }
   ],
   "source": [
    "june_df"
   ]
  },
  {
   "cell_type": "code",
   "execution_count": 23,
   "id": "f66d749a-3d25-4dcf-87bd-266b5052a054",
   "metadata": {},
   "outputs": [
    {
     "name": "stdout",
     "output_type": "stream",
     "text": [
      "Количество оригиналов договора по майским сделкам в июне 2021: 76\n"
     ]
    }
   ],
   "source": [
    "print(\"Количество оригиналов договора по майским сделкам в июне 2021:\", june_df['client_id'].shape[0])"
   ]
  },
  {
   "cell_type": "markdown",
   "id": "dad68375-b2a8-4cea-980d-d2a3ad08d3f3",
   "metadata": {},
   "source": [
    "---\n",
    "**Задание.**\n",
    "\n",
    "За каждую заключенную сделку менеджер получает бонус, который рассчитывается следующим образом.\n",
    "\n",
    "За новые сделки менеджер получает 7 % от суммы, при условии, что статус оплаты «ОПЛАЧЕНО», а также имеется оригинал подписанного договора с клиентом (в рассматриваемом месяце).\n",
    "\n",
    "За текущие сделки менеджер получает 5 % от суммы, если она больше 10 тыс., и 3 % от суммы, если меньше. При этом статус оплаты может быть любым, кроме «ПРОСРОЧЕНО», а также необходимо наличие оригинала подписанного договора с клиентом (в рассматриваемом месяце). \n",
    "\n",
    "Бонусы по сделкам, оригиналы для которых приходят позже рассматриваемого месяца, считаются остатком на следующий период, который выплачивается по мере прихода оригиналов. Вычислите остаток каждого из менеджеров на 01.07.2021."
   ]
  },
  {
   "cell_type": "code",
   "execution_count": 24,
   "id": "5a2ade5a-f4d4-447a-929f-bb84c99ccfbe",
   "metadata": {},
   "outputs": [],
   "source": [
    "max_bonus = 0.07\n",
    "mid_bonus = 0.05\n",
    "low_bonus = 0.03\n",
    "\n",
    "df['sales_bonus'] = 0\n",
    "\n",
    "# Рассчет бонусов для новых сделок\n",
    "new_deals_mask = (df['new/current'] == 'новая') & (df['status'] == 'ОПЛАЧЕНО') & df['receiving_date'].notnull()\n",
    "df.loc[new_deals_mask, 'sales_bonus'] = round(df.loc[new_deals_mask, 'sum'] * max_bonus, 2)\n",
    "\n",
    "# Рассчет бонусов для текущих сделок\n",
    "current_deals_mask = (df['new/current'] == 'текущая') & (df['status'] != 'ПРОСРОЧЕНО') & df['receiving_date'].notnull()\n",
    "df.loc[current_deals_mask & (df['sum'] < 10000), 'sales_bonus'] = round(df.loc[current_deals_mask & (df['sum'] < 10000), 'sum'] * low_bonus, 2)\n",
    "df.loc[current_deals_mask & (df['sum'] >= 10000), 'sales_bonus'] = round(df.loc[current_deals_mask & (df['sum'] >= 10000), 'sum'] * mid_bonus, 2)\n",
    "\n",
    "# Рассчет остатков бонусов на 01.07.2021\n",
    "remaining_bonus = df[df['receiving_date'] > '2021-07-01'].groupby('sale')['sales_bonus'].sum()"
   ]
  },
  {
   "cell_type": "code",
   "execution_count": 26,
   "id": "ae816447-5652-42c9-822a-4b3c97015ec2",
   "metadata": {},
   "outputs": [],
   "source": [
    "remaining_bonus = pd.DataFrame(remaining_bonus)"
   ]
  },
  {
   "cell_type": "code",
   "execution_count": 27,
   "id": "1f68c2e9-7390-4318-848f-007edd3af205",
   "metadata": {},
   "outputs": [
    {
     "data": {
      "text/html": [
       "<div>\n",
       "<style scoped>\n",
       "    .dataframe tbody tr th:only-of-type {\n",
       "        vertical-align: middle;\n",
       "    }\n",
       "\n",
       "    .dataframe tbody tr th {\n",
       "        vertical-align: top;\n",
       "    }\n",
       "\n",
       "    .dataframe thead th {\n",
       "        text-align: right;\n",
       "    }\n",
       "</style>\n",
       "<table border=\"1\" class=\"dataframe\">\n",
       "  <thead>\n",
       "    <tr style=\"text-align: right;\">\n",
       "      <th></th>\n",
       "      <th>sales_bonus</th>\n",
       "    </tr>\n",
       "    <tr>\n",
       "      <th>sale</th>\n",
       "      <th></th>\n",
       "    </tr>\n",
       "  </thead>\n",
       "  <tbody>\n",
       "    <tr>\n",
       "      <th>Андреев</th>\n",
       "      <td>27164.26</td>\n",
       "    </tr>\n",
       "    <tr>\n",
       "      <th>Васильев</th>\n",
       "      <td>6934.62</td>\n",
       "    </tr>\n",
       "    <tr>\n",
       "      <th>Иванов</th>\n",
       "      <td>22041.59</td>\n",
       "    </tr>\n",
       "    <tr>\n",
       "      <th>Кузнецова</th>\n",
       "      <td>16108.76</td>\n",
       "    </tr>\n",
       "    <tr>\n",
       "      <th>Михайлов</th>\n",
       "      <td>607.07</td>\n",
       "    </tr>\n",
       "    <tr>\n",
       "      <th>Петрова</th>\n",
       "      <td>28282.38</td>\n",
       "    </tr>\n",
       "    <tr>\n",
       "      <th>Селиванов</th>\n",
       "      <td>7102.47</td>\n",
       "    </tr>\n",
       "    <tr>\n",
       "      <th>Смирнов</th>\n",
       "      <td>31089.57</td>\n",
       "    </tr>\n",
       "    <tr>\n",
       "      <th>Соколов</th>\n",
       "      <td>3730.70</td>\n",
       "    </tr>\n",
       "    <tr>\n",
       "      <th>Филимонова</th>\n",
       "      <td>11043.56</td>\n",
       "    </tr>\n",
       "  </tbody>\n",
       "</table>\n",
       "</div>"
      ],
      "text/plain": [
       "            sales_bonus\n",
       "sale                   \n",
       "Андреев        27164.26\n",
       "Васильев        6934.62\n",
       "Иванов         22041.59\n",
       "Кузнецова      16108.76\n",
       "Михайлов         607.07\n",
       "Петрова        28282.38\n",
       "Селиванов       7102.47\n",
       "Смирнов        31089.57\n",
       "Соколов         3730.70\n",
       "Филимонова     11043.56"
      ]
     },
     "execution_count": 27,
     "metadata": {},
     "output_type": "execute_result"
    }
   ],
   "source": [
    "remaining_bonus"
   ]
  },
  {
   "cell_type": "code",
   "execution_count": null,
   "id": "ee10f19f-2ce4-49d2-8cc7-3b584d5ea3a4",
   "metadata": {},
   "outputs": [],
   "source": []
  }
 ],
 "metadata": {
  "kernelspec": {
   "display_name": "Python 3 (ipykernel)",
   "language": "python",
   "name": "python3"
  },
  "language_info": {
   "codemirror_mode": {
    "name": "ipython",
    "version": 3
   },
   "file_extension": ".py",
   "mimetype": "text/x-python",
   "name": "python",
   "nbconvert_exporter": "python",
   "pygments_lexer": "ipython3",
   "version": "3.9.12"
  }
 },
 "nbformat": 4,
 "nbformat_minor": 5
}
